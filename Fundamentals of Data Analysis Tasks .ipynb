{
 "cells": [
  {
   "cell_type": "markdown",
   "metadata": {},
   "source": [
    "# Fundamentals of Data Analysis Tasks 2020\n",
    "***\n",
    "This notebook contains my solutions to the four tasks for the Fundamentals of Data Analyis Assignment 2020."
   ]
  },
  {
   "cell_type": "markdown",
   "metadata": {},
   "source": [
    "## Task 1 :\n",
    "Write a Python function called counts that takes a list as input and returns a dictionary of unique items in the list as keys and the number of times each item appears as values. So, the input ['A', 'A', 'B', 'C', 'A'] should have output {'A': 3, 'B': 1, 'C': 1} . Your code should not depend on any module from the standard library1 or otherwise.\n",
    "\n",
    "### Solution:\n",
    "I used the following resouce to create this solution for a list (Geeks for Geeks).\n"
   ]
  },
  {
   "cell_type": "code",
   "execution_count": 1,
   "metadata": {},
   "outputs": [
    {
     "name": "stdout",
     "output_type": "stream",
     "text": [
      " 1 :  5\n",
      " 5 :  2\n",
      " 3 :  3\n",
      " 4 :  3\n",
      " 2 :  4\n"
     ]
    }
   ],
   "source": [
    "# Python program to count the frequency of elements in a list using a dictionary \n",
    "  \n",
    "def counts(my_list): \n",
    "  \n",
    "    # Creating an empty dictionary  \n",
    "    freq = {} \n",
    "    for item in my_list: \n",
    "        if (item in freq): \n",
    "            freq[item] += 1\n",
    "        else: \n",
    "            freq[item] = 1\n",
    "  \n",
    "    for key, value in freq.items(): \n",
    "        print (\"% d : % d\"%(key, value)) \n",
    "  \n",
    "# Driver function \n",
    "if __name__ == \"__main__\":  \n",
    "    my_list =[1, 1, 1, 5, 5, 3, 1, 3, 3, 1, 4, 4, 4, 2, 2, 2, 2] \n",
    "  \n",
    "    counts(my_list)"
   ]
  },
  {
   "cell_type": "markdown",
   "metadata": {},
   "source": [
    "I then greated my own list of values to have a look at the outcome based on the above soulution. "
   ]
  },
  {
   "cell_type": "code",
   "execution_count": 2,
   "metadata": {},
   "outputs": [
    {
     "name": "stdout",
     "output_type": "stream",
     "text": [
      " 10 :  4\n",
      " 50 :  1\n",
      " 15 :  1\n",
      " 100 :  2\n",
      " 45 :  2\n",
      " 87 :  3\n",
      " 95 :  1\n"
     ]
    }
   ],
   "source": [
    "# Python program to count the frequency of elements in a list using a dictionary \n",
    "def counts(my_list): \n",
    "  \n",
    "    # Creating an empty dictionary  \n",
    "    freq = {} \n",
    "    for item in my_list: \n",
    "        if (item in freq): \n",
    "            freq[item] += 1\n",
    "        else: \n",
    "            freq[item] = 1\n",
    "  \n",
    "    for key, value in freq.items(): \n",
    "        print (\"% d : % d\"%(key, value)) \n",
    "if __name__ == \"__main__\":  \n",
    "    my_list =[10, 50, 15, 100, 45, 87, 95, 10, 100, 87, 10, 87,10, 45] \n",
    "  #Prints out the list of numbers once and displays how many times each occours in the list. \n",
    "    counts(my_list)"
   ]
  },
  {
   "cell_type": "markdown",
   "metadata": {},
   "source": [
    "While looking at lists I also wanted to figure out how to do the same exercise with a string and I have included my findings here."
   ]
  },
  {
   "cell_type": "code",
   "execution_count": 3,
   "metadata": {},
   "outputs": [
    {
     "name": "stdout",
     "output_type": "stream",
     "text": [
      "{'hey': 1, 'diddle': 2, 'the': 4, 'cat': 1, 'and': 1, 'fiddle': 1, 'cow': 1, 'jumped': 1, 'over': 1, 'moon': 1}\n"
     ]
    }
   ],
   "source": [
    "def counts(str):\n",
    "    count = dict()\n",
    "    words = str.split()\n",
    "\n",
    "    for word in words:\n",
    "        if word in count:\n",
    "            count[word] += 1\n",
    "        else:\n",
    "            count[word] = 1\n",
    "\n",
    "    return count\n",
    "\n",
    "print( counts ('hey diddle diddle the cat and the fiddle the cow jumped over the moon'))\n",
    "\n",
    "#Resource used:(w3resource)"
   ]
  },
  {
   "cell_type": "markdown",
   "metadata": {},
   "source": [
    "## Task 2 :\n",
    "Write a Python function called dicerolls that simulates rolling dice. Your function should take two parameters: the number of dice k and the number of times to roll the dice n. The function should simulate randomly rolling k dice n times, keeping track of each total face value. It should then return a dictionary with the number of times each possible total face value occurred. So, calling the function as diceroll(k=2, n=1000) should return a dictionary like {2:19,3:50,4:82,5:112,6:135,7:174,8:133,9:114,10:75,11:70,12:36} \n",
    "\n",
    "### Solution:\n",
    "For this solution I used the resource listed at the start of the python code.   \n",
    "This code takes n=1000 to roll the dice 1,000 times with 2 x 12 possible outcomes for each throw of 2 dice.\n",
    "The results printed indicate how many times each of the dice values occurred each time the 2 dice were threw. "
   ]
  },
  {
   "cell_type": "code",
   "execution_count": 4,
   "metadata": {},
   "outputs": [
    {
     "name": "stdout",
     "output_type": "stream",
     "text": [
      "defaultdict(<class 'int'>, {11: 110, 10: 86, 6: 88, 5: 95, 3: 95, 8: 86, 7: 93, 4: 78, 12: 95, 2: 89, 9: 85})\n"
     ]
    }
   ],
   "source": [
    "#Resourse used: Stack Over Flow \n",
    "#Import dictionary for priting out the result\n",
    "from collections import defaultdict\n",
    "from random import randint\n",
    "\n",
    "# Roll the two dice how many times?\n",
    "n = 1000\n",
    "#2 Dice\n",
    "k = 2\n",
    "# Create a dictionary to store the results\n",
    "dicerolls = defaultdict(int)\n",
    "\n",
    "# Loop n times\n",
    "for _ in range(n):\n",
    "    # Get random numbers for the two dice rolled 1000 times\n",
    "    k = randint(2, 12)\n",
    "        # Increase the corresponding result by 1\n",
    "    dicerolls[k]+=1\n",
    "\n",
    "# Print results\n",
    "print(dicerolls)"
   ]
  },
  {
   "cell_type": "markdown",
   "metadata": {},
   "source": [
    "## Task 3 :\n",
    "\n",
    "Write some python code that simulates flipping a coin 100 times. Then run this code 1,000 times, keeping track\n",
    "of the number of heads in each of the 1,000 simulations. Select an appropriate plot to depict the resulting list of 1,000 numbers, showing that it roughly follows a bell-shaped curve.\n",
    "\n",
    "### Solution:"
   ]
  },
  {
   "cell_type": "markdown",
   "metadata": {},
   "source": [
    "To begin this solution I first toss a fair coin using the binomial distribution function in python . Flipping a coin 100 times, we set n =100 for 100 coin tosses the output is the number of heads 49 which are reutrned after tossing the coin 100 times. (towards data science)"
   ]
  },
  {
   "cell_type": "code",
   "execution_count": 5,
   "metadata": {},
   "outputs": [
    {
     "data": {
      "text/plain": [
       "49"
      ]
     },
     "execution_count": 5,
     "metadata": {},
     "output_type": "execute_result"
    }
   ],
   "source": [
    "#Resourse towards data science\n",
    "#import python packages numpy and pandas\n",
    "import numpy as np\n",
    "import pandas as pd\n",
    "import random\n",
    "import matplotlib.pyplot as plt \n",
    "# Seed the random number generator\n",
    "np.random.seed(42)\n",
    "#n is the number of times we toss the coin\n",
    "n = 100\n",
    "#p is the probility 50/50 of heads being the outcome\n",
    "p = 0.5\n",
    "np.random.binomial(n, p)\n"
   ]
  },
  {
   "cell_type": "code",
   "execution_count": 6,
   "metadata": {},
   "outputs": [
    {
     "data": {
      "text/plain": [
       "array([ 2,  5,  8,  4,  3,  4,  6,  6,  5,  2,  1,  4,  4,  6,  3,  6,  6,\n",
       "        5,  3,  5,  4,  5, 10,  5,  4,  4,  5,  5,  6,  5,  7,  4,  4,  8,\n",
       "        7,  3,  5,  4,  6,  5,  6,  4,  5,  5,  5,  7,  8,  4,  5,  4,  6,\n",
       "        5,  5,  4,  5,  1,  6,  5,  8,  9,  5,  4,  5,  4,  6,  8,  5,  9,\n",
       "        2,  5,  6,  3,  3,  4,  2,  4, 10,  3,  4,  3,  5,  5,  4,  3,  6,\n",
       "        5,  6,  2,  6,  3,  5,  5,  6,  7,  4,  6,  5,  7,  6,  5,  4,  5,\n",
       "        7,  4,  5,  4,  4,  6,  6,  6,  5,  6,  4,  6,  1,  6,  4,  4,  6,\n",
       "        8,  6,  8,  5,  5,  6,  6,  6,  3,  6,  6,  7,  6,  6,  5,  5,  7,\n",
       "        4,  8,  7,  1,  5,  3,  5,  5,  8,  7,  4,  7,  1,  6,  5,  8,  5,\n",
       "        4,  3,  5,  6,  1,  4,  4,  4,  3,  6,  5,  6,  6,  4,  5,  1,  6,\n",
       "        2,  5,  5,  7,  5,  4,  4,  6,  5,  4,  6,  7,  4,  4,  6,  7,  3,\n",
       "        6,  6,  4,  2,  5,  7,  3,  3,  5,  8,  9,  3,  7,  6,  6,  5,  6,\n",
       "        5,  3,  8,  5,  5,  3,  6,  5,  3,  5,  6,  6,  5,  5,  1,  7,  6,\n",
       "        8,  5,  7,  6,  7,  5,  7,  5,  6,  7,  6,  4,  3,  7,  7,  6,  3,\n",
       "        6,  4,  4,  4,  3,  5,  7,  4,  5,  4,  5,  4,  4,  2,  5,  4,  4,\n",
       "        7,  6,  8,  5,  5,  7,  7,  7,  5,  4,  6,  2,  4,  7,  5,  5,  3,\n",
       "        5,  4,  3,  2,  3,  5,  4,  6,  7,  4,  7,  5,  4,  3,  3,  1,  6,\n",
       "        7,  3,  6,  4,  3,  5,  7,  3,  4,  6,  6,  5,  4,  3,  4,  7,  3,\n",
       "        4,  6,  4,  5,  4,  5,  2,  4,  5,  4,  5,  6,  4,  6,  8,  6,  3,\n",
       "        2,  2,  5,  7,  6,  5,  6,  2,  4,  5,  4,  8,  6,  3,  4,  2,  3,\n",
       "        2,  3,  1,  5,  4,  5,  6,  6,  6,  6,  2,  3,  6,  8,  5,  5,  7,\n",
       "        3,  5,  4,  5,  5,  4,  4,  5,  7,  7,  6,  4,  8,  5,  8,  7,  4,\n",
       "        6,  4,  3,  4,  3,  4,  4,  7,  4,  9,  5,  4,  5,  5,  3,  7,  3,\n",
       "        6,  7,  5,  5,  5,  5,  6,  4,  6,  5,  6,  7,  7,  5,  7,  5,  3,\n",
       "        4,  2,  5,  6,  6,  3,  5,  3,  4,  3,  5,  3,  5,  3,  4,  5,  4,\n",
       "        4,  5,  6,  6,  5,  6,  3,  6,  3,  6,  6,  3,  2,  6,  4,  8,  6,\n",
       "        6,  5,  3,  7,  4,  5,  5,  5,  6,  2,  3,  8,  6,  6,  4,  6,  6,\n",
       "        4,  4,  4,  3,  4,  7,  6,  4,  3,  4,  4,  7,  4,  3,  6,  4,  3,\n",
       "        4,  4,  4,  4,  6,  7,  3,  8,  6,  5,  6,  7,  5,  7,  4,  7,  3,\n",
       "        6,  3,  7,  4,  6,  4,  3,  6,  5,  6,  4,  3,  6,  1,  3,  6,  5,\n",
       "        3,  3,  4,  5,  3,  7,  4,  6,  7,  4,  5,  9,  2,  7,  7,  5,  7,\n",
       "        6,  3,  7,  2,  3,  5,  4,  4,  6,  4,  4,  5,  6,  3,  5,  4,  7,\n",
       "        3,  7,  5,  6,  6,  6,  5,  4,  2,  6,  3,  7,  5,  4,  5,  7,  5,\n",
       "        4,  7,  4,  5,  6,  5,  4,  7,  5,  5,  1,  7,  3,  6,  4,  3,  4,\n",
       "        3,  4,  5,  6,  4,  6,  4,  5,  5,  1,  5,  4,  4,  6,  3,  5,  7,\n",
       "        4,  5,  7,  5,  5,  6,  5,  6,  5,  5,  5,  7,  5,  3,  7,  5,  4,\n",
       "        6,  3,  7,  3,  4,  4,  6,  6,  4,  3,  5,  4,  3,  6,  6,  4,  7,\n",
       "        4,  4,  6,  3,  3,  4,  4,  4,  4,  5,  7,  6,  8,  7,  6,  2,  7,\n",
       "        5,  6,  7,  5,  1,  4,  7,  5,  6,  7,  6,  4,  6,  4,  7,  4,  6,\n",
       "        5,  3,  4,  6,  3,  7,  6,  4,  5,  7,  6,  5,  6,  5,  4,  5,  4,\n",
       "        4,  5,  5,  6,  4,  4,  6,  6,  2,  5,  5,  4,  8,  7,  5,  3,  3,\n",
       "        6,  7,  5,  6,  5,  5,  6,  2,  5,  6,  5,  4,  7,  6,  5,  4,  5,\n",
       "        4,  4,  7,  8,  5,  5,  6,  6,  2,  7,  4,  6,  6,  7,  3,  5,  6,\n",
       "        5,  5,  7,  7,  3,  2,  6,  4,  7,  8,  7,  4,  7,  6,  4,  6,  6,\n",
       "        7,  6,  5,  4,  6,  7,  3,  5,  3,  3,  5,  5,  7,  5,  8,  5,  3,\n",
       "        5,  6,  5,  5,  4,  4,  7,  6,  7,  4,  4,  5,  3,  6,  4,  8,  3,\n",
       "        5,  4,  7,  7,  5,  4,  5,  3,  5,  3,  4,  3,  7,  6,  4,  3,  8,\n",
       "        3,  7,  5,  5,  7,  3,  5,  5,  3,  4,  5,  5,  6,  6,  5,  2,  2,\n",
       "        4,  3,  3,  7,  5,  4,  5,  4,  6,  5,  4,  4,  5,  7,  3,  6,  6,\n",
       "        3,  3,  2,  6,  4,  2,  3,  6,  4,  6,  5,  3,  2,  6,  8,  4,  5,\n",
       "        7,  3,  3,  4,  8,  7,  4,  4,  6,  5,  5,  7,  5,  4,  3,  7,  5,\n",
       "        5,  5,  5,  4,  5,  5,  5,  6,  8,  6,  6,  5,  4,  7,  3,  4,  6,\n",
       "        5,  7,  5,  3,  4,  4,  3,  8,  7,  7,  4,  6,  7,  3,  6,  6,  0,\n",
       "        5,  3,  6,  3,  6,  7,  5,  4,  6,  4,  5,  6,  5,  6,  3,  4,  6,\n",
       "        4,  5,  6,  7,  6,  8,  9,  4,  8,  6,  5,  8,  6,  4,  3,  3,  5,\n",
       "        3,  6,  7,  4,  5,  6,  3,  8,  3,  4,  6,  6,  6,  6,  5,  4,  5,\n",
       "        7,  5,  5,  4,  7,  7,  3,  2,  6,  6,  5,  7,  4,  5,  3,  5,  4,\n",
       "        5,  5,  2,  3,  5,  4,  4,  5,  5,  5,  8,  6,  1,  7,  5,  6,  6,\n",
       "        4,  5,  2,  2,  4,  5,  7,  6,  6,  6,  6,  4,  4,  3])"
      ]
     },
     "execution_count": 6,
     "metadata": {},
     "output_type": "execute_result"
    }
   ],
   "source": [
    "np.random.seed()\n",
    "n=10\n",
    "p=0.5\n",
    "# let us repeat our experiment for 100 times\n",
    "size=1000\n",
    "x=np.random.binomial(n=n, p=p, size=size)\n",
    "x\n",
    "#print(data_binom)\n",
    "\n",
    "#y = np.bincount(data_binom)\n",
    "#head = print(y[0])\n",
    "#print(head)"
   ]
  },
  {
   "cell_type": "markdown",
   "metadata": {},
   "source": [
    "Now I will look at running this code 1,000 times, keeping track of the number of heads in each of the 1,000 simulations showing the resutls follow a bell-shaped curve.\n",
    "\n",
    "I have broke this into three parts.  In the first part I repeat the coin toss expirement 1000 times where in each experiment I toss a coin 10 times and return the number of heads that are returned by each experiment. "
   ]
  },
  {
   "cell_type": "code",
   "execution_count": 8,
   "metadata": {},
   "outputs": [
    {
     "data": {
      "text/plain": [
       "array([ 4,  8,  6,  5,  3,  3,  3,  7,  5,  6,  2,  8,  7,  4,  4,  4,  4,\n",
       "        5,  5,  4,  5,  3,  4,  4,  5,  6,  4,  5,  5,  2,  5,  3,  3,  8,\n",
       "        8,  6,  4,  3,  6,  5,  3,  5,  2,  7,  4,  6,  4,  5,  5,  4,  8,\n",
       "        6,  7,  7,  5,  7,  3,  4,  2,  4,  5,  4,  7,  4,  4,  5,  3,  6,\n",
       "        3,  8,  6,  4,  1,  6,  6,  6,  6,  3,  4,  3,  7,  6,  4,  3,  4,\n",
       "        4,  6,  6,  7,  5,  3,  6,  6,  5,  6,  5,  5,  5,  2,  3,  2,  6,\n",
       "        4,  5,  7,  4,  5,  6,  4,  3,  4,  3,  7,  6,  6,  7,  6,  4,  7,\n",
       "        5,  6,  7,  4,  3,  4,  5,  6,  7,  1,  5,  5,  4,  3,  4,  7,  4,\n",
       "        5,  6,  4,  8,  8,  4,  5,  4,  4,  2,  5,  5,  2,  4,  7,  4,  3,\n",
       "        5,  8,  4,  6,  6,  4,  6,  4,  6,  6,  5,  3,  7,  4,  4,  2,  5,\n",
       "        6,  2,  5,  4,  6,  4,  6,  5,  7,  3,  4,  3,  7,  7,  4,  6,  6,\n",
       "        5,  5,  4,  3,  7,  7,  6,  4,  4,  6,  7,  7,  6,  6,  3,  3,  7,\n",
       "        5,  1,  3,  6,  1,  3,  5,  6,  6,  4,  6,  4,  4,  6,  6,  7,  6,\n",
       "        5,  3,  4,  4,  4,  8,  5,  7,  6,  6,  5,  5,  5,  4,  6,  4,  2,\n",
       "        6,  4,  7,  8,  7,  4,  2,  7,  5,  8,  8,  7,  4,  5,  7,  4,  3,\n",
       "        5,  7,  6,  5,  3,  5,  9,  3,  5,  7,  6,  6,  6,  4,  4,  6,  6,\n",
       "        7,  7,  5,  5,  6,  6,  6,  6,  7,  4,  4,  3,  5,  2,  5,  5,  4,\n",
       "        5,  2,  2,  6,  4,  3,  5,  6,  4,  5,  3,  2,  5,  5,  6,  6,  8,\n",
       "        5,  4,  6,  4,  5,  3,  2,  8,  7,  6,  5,  4,  3,  4,  5,  6,  6,\n",
       "        4,  8,  6,  5,  5,  5,  4,  4,  6,  2,  3,  2,  2,  7,  6,  5,  3,\n",
       "        5,  5,  4,  5,  5,  5,  6,  2,  4,  6,  5,  7,  6,  3,  3,  6,  2,\n",
       "        5,  7,  5,  5,  6,  5,  5,  7,  5,  8,  7,  4,  3,  3,  2,  3,  6,\n",
       "        3,  4,  7,  2,  6,  4,  3,  6,  6,  7,  6,  6,  4,  4,  6,  6,  9,\n",
       "        5,  4,  6,  4,  7,  7,  5,  6,  6,  3,  7,  5,  6,  4,  7,  5,  2,\n",
       "        7,  3,  4,  8,  8,  5,  6,  5,  4,  4,  6,  6,  6,  6,  3,  5,  3,\n",
       "        5,  5,  7,  4,  3,  3,  6,  5,  3,  3,  6,  3,  6,  6,  3,  3,  8,\n",
       "        4,  4,  6,  8,  8,  6,  4,  3,  6,  5,  5,  7,  3,  5,  2,  5,  3,\n",
       "        3,  3,  6,  6,  5,  8,  4,  4,  7,  4,  8,  2,  8,  2,  7,  5,  9,\n",
       "        3,  5,  8,  5,  6,  6,  5,  6,  5,  7,  2,  4,  8,  7,  5,  5,  4,\n",
       "        4,  5,  4,  5,  3,  8,  8,  6,  5,  4,  6,  6,  3,  7,  6,  8,  6,\n",
       "        5,  5,  7,  7,  2,  2,  4,  6,  8,  3,  5,  5,  8,  7,  7,  5,  5,\n",
       "        4,  3,  7,  6, 10,  9,  5,  6,  7,  7,  4,  5,  3,  8,  5,  4,  6,\n",
       "        5,  4,  3,  6,  5,  6,  5,  7,  5,  5,  7,  5,  3,  2,  6,  5,  6,\n",
       "        4,  3,  2,  4,  5,  5,  5,  7,  4,  5,  6,  5,  5,  7,  8,  3,  7,\n",
       "        5,  4,  5,  8,  5,  4,  6,  4,  3,  3,  3,  3,  3,  6,  4,  4,  7,\n",
       "        5,  6,  4,  4,  2,  3,  4,  4,  3,  3,  5,  4,  4,  5,  6,  2,  6,\n",
       "        6,  3,  7,  7,  3,  4,  6,  6,  4,  4,  4,  5,  5,  4,  5,  6,  2,\n",
       "        4,  6,  7,  5,  5,  3,  5,  5,  4,  4,  5,  2,  4,  4,  4,  3,  7,\n",
       "        5,  6,  6,  5,  3,  5,  5,  6,  5,  3,  4,  4,  6,  5,  4,  8,  5,\n",
       "        4,  3,  3,  4,  3,  4,  4,  4,  7,  3,  5,  5,  8,  3,  5,  8,  7,\n",
       "        6,  4,  3,  6,  7,  5,  5,  4,  6,  4,  4,  5,  5,  4,  3,  5,  4,\n",
       "        5,  3,  5,  5,  2,  4,  3,  3,  9,  4,  6,  4,  6,  6,  5,  5,  5,\n",
       "        4,  7,  7,  8,  3,  6,  7,  4,  3,  6,  5,  7,  3,  6,  4,  3,  3,\n",
       "        6,  6,  5,  4,  7,  5,  6,  5,  4,  5,  4,  6,  5,  4,  7,  5,  5,\n",
       "        7,  6,  3,  7,  6,  4,  3,  6,  5,  5,  7,  6,  3,  4,  4,  6,  2,\n",
       "        5,  6,  7,  4,  6,  3,  7,  3,  5,  6,  3,  4,  6,  6,  6,  6,  5,\n",
       "        4,  4,  4,  7,  5,  5,  5,  8,  3,  5,  5,  5,  2,  7,  7,  5,  6,\n",
       "        7,  6,  3,  5,  5,  5,  6,  7,  7,  5,  3,  8,  7,  3,  7,  7,  5,\n",
       "        5,  5,  3,  4,  6,  1,  4,  5,  5,  7,  4,  4,  6,  5,  4,  5,  3,\n",
       "        4,  5,  5,  7,  4,  5,  6,  2,  6,  4,  8,  3,  5,  3,  9,  5,  5,\n",
       "        3,  6,  4,  7,  4,  4,  2,  5,  5,  3,  6,  5,  5,  5,  5,  5,  3,\n",
       "        4,  7,  8,  4,  4,  6,  5,  2,  3,  6,  6,  2,  4,  4,  6,  2,  3,\n",
       "        6,  4,  6,  4,  3,  4,  6,  7,  7,  5,  6,  4,  4,  7,  2,  3,  4,\n",
       "        2,  4,  5,  5,  7,  6,  4,  4,  5,  5,  4,  6,  5,  5,  5,  4,  8,\n",
       "        6,  3,  7,  5,  7,  6,  5,  2,  4,  5,  6,  4,  3,  7,  8,  5,  3,\n",
       "        4,  2,  7,  3,  5,  4,  5,  6,  7,  4,  2,  3,  7,  7,  5,  5,  6,\n",
       "        4,  7,  5,  5,  5,  2,  3,  6,  3,  5,  4,  5,  4,  4,  6,  4,  5,\n",
       "        5,  6,  7,  6,  4,  2,  4,  5,  2,  5,  5,  4,  6,  3,  3,  6,  5,\n",
       "        6,  5,  4,  6,  6,  6,  4,  5,  4,  3,  7,  3,  8,  5])"
      ]
     },
     "execution_count": 8,
     "metadata": {},
     "output_type": "execute_result"
    }
   ],
   "source": [
    "np.random.seed(42)\n",
    "n=10\n",
    "p=0.5\n",
    "# let us repeat our experiment for 1000 times\n",
    "size=1000\n",
    "x=np.random.binomial(n=n, p=p, size=size)\n",
    "x"
   ]
  },
  {
   "cell_type": "markdown",
   "metadata": {},
   "source": [
    "In the second part we can see that, in our 1000 experiments we never saw all heads and all tails with our fair coin. We can also see that we observe more times 4, or 5, or 6 heads. The success counts sums to 1000, our total number of experiments. We can use the observed successes to estimate the probability of getting x successes in n=10 coin tosses by dividing by 1000."
   ]
  },
  {
   "cell_type": "code",
   "execution_count": 9,
   "metadata": {},
   "outputs": [
    {
     "data": {
      "text/plain": [
       "[0, 5, 53, 134, 207, 238, 194, 116, 46, 6]"
      ]
     },
     "execution_count": 9,
     "metadata": {},
     "output_type": "execute_result"
    }
   ],
   "source": [
    "[np.equal(x,i).sum() for i in range(n)]\n"
   ]
  },
  {
   "cell_type": "markdown",
   "metadata": {},
   "source": [
    "In part three of my solution I plot the outcome of the above to show a bell shaped curve. "
   ]
  },
  {
   "cell_type": "code",
   "execution_count": 10,
   "metadata": {},
   "outputs": [
    {
     "name": "stdout",
     "output_type": "stream",
     "text": [
      "[0.0, 0.005, 0.053, 0.134, 0.207, 0.238, 0.194, 0.116, 0.046, 0.006]\n"
     ]
    },
    {
     "data": {
      "text/plain": [
       "Text(0, 0.5, 'Probability')"
      ]
     },
     "execution_count": 10,
     "metadata": {},
     "output_type": "execute_result"
    },
    {
     "data": {
      "image/png": "[encoded data removed]",
      "text/plain": [
       "<Figure size 432x288 with 1 Axes>"
      ]
     },
     "metadata": {
      "needs_background": "light"
     },
     "output_type": "display_data"
    }
   ],
   "source": [
    "probs_1000 = [np.equal(x,i).mean() for i in range(n)]\n",
    "print(probs_1000)\n",
    "\n",
    "# the probability of x success that \n",
    "plt.xticks(range(n))\n",
    "plt.plot(list(range(n)), probs_1000, color='green', marker='o')\n",
    "plt.xlabel('Number of Heads',fontsize=20)\n",
    "plt.ylabel('Probability',fontsize=20)"
   ]
  },
  {
   "cell_type": "markdown",
   "metadata": {},
   "source": [
    "We can see from the above plot that this is a bell shaped curve and that the probability of seeing 5 heads is the hightest, closely followed by probability of seeing 4 heads. "
   ]
  },
  {
   "cell_type": "markdown",
   "metadata": {},
   "source": [
    "## Task 4 :\n",
    "\n",
    "Simpson’s paradox is a well-known statistical paradox where a trend evident in a number of groups reverses when the groups are combined into one big data set. Use numpy to create four data sets, each with an x array and a corresponding y array, to demonstrate Simpson’s paradox. You might create your x arrays using numpy.linspace and create the y array for each\n",
    "x using notation like y = a * x + b where you choose the a and b for each x , y pair to demonstrate the paradox. \n",
    "\n",
    "### Solution:\n",
    "Simpsons paradox is a statistical paradox that occurs when some groups of data show a certain relationship in each group, buth when the data is combined theat realationship is reversed.\n"
   ]
  },
  {
   "cell_type": "code",
   "execution_count": 47,
   "metadata": {},
   "outputs": [
    {
     "data": {
      "text/html": [
       "<div>\n",
       "<style scoped>\n",
       "    .dataframe tbody tr th:only-of-type {\n",
       "        vertical-align: middle;\n",
       "    }\n",
       "\n",
       "    .dataframe tbody tr th {\n",
       "        vertical-align: top;\n",
       "    }\n",
       "\n",
       "    .dataframe thead th {\n",
       "        text-align: right;\n",
       "    }\n",
       "</style>\n",
       "<table border=\"1\" class=\"dataframe\">\n",
       "  <thead>\n",
       "    <tr style=\"text-align: right;\">\n",
       "      <th></th>\n",
       "      <th>A</th>\n",
       "      <th>B</th>\n",
       "      <th>C</th>\n",
       "    </tr>\n",
       "  </thead>\n",
       "  <tbody>\n",
       "    <tr>\n",
       "      <th>0</th>\n",
       "      <td>A0</td>\n",
       "      <td>B0</td>\n",
       "      <td>C0</td>\n",
       "    </tr>\n",
       "    <tr>\n",
       "      <th>1</th>\n",
       "      <td>A1</td>\n",
       "      <td>B1</td>\n",
       "      <td>C1</td>\n",
       "    </tr>\n",
       "    <tr>\n",
       "      <th>2</th>\n",
       "      <td>A2</td>\n",
       "      <td>B2</td>\n",
       "      <td>C2</td>\n",
       "    </tr>\n",
       "  </tbody>\n",
       "</table>\n",
       "</div>"
      ],
      "text/plain": [
       "    A   B   C\n",
       "0  A0  B0  C0\n",
       "1  A1  B1  C1\n",
       "2  A2  B2  C2"
      ]
     },
     "execution_count": 47,
     "metadata": {},
     "output_type": "execute_result"
    }
   ],
   "source": [
    "import numpy as np\n",
    "import pandas as pd\n",
    "import numpy as np\n",
    "import seaborn as sns\n",
    "\n"
   ]
  },
  {
   "cell_type": "code",
   "execution_count": 51,
   "metadata": {},
   "outputs": [
    {
     "data": {
      "image/png": "[encoded data removed]",
      "text/plain": [
       "<Figure size 432x288 with 1 Axes>"
      ]
     },
     "metadata": {
      "needs_background": "light"
     },
     "output_type": "display_data"
    }
   ],
   "source": [
    "import matplotlib.pyplot as plt\n",
    "N = 8\n",
    "y = np.zeros(N)\n",
    "x1 = np.linspace(0, 10, N, endpoint=True)\n",
    "x2 = np.linspace(0, 10, N, endpoint=False)\n",
    "plt.plot(x1, y, 'o')\n",
    "\n",
    "plt.plot(x2, y + 0.5, 'o')\n",
    "\n",
    "plt.ylim([-0.5, 1])\n",
    "(-0.5, 1)\n",
    "plt.show()"
   ]
  },
  {
   "cell_type": "code",
   "execution_count": 125,
   "metadata": {},
   "outputs": [
    {
     "data": {
      "image/png": "[encoded data removed]",
      "text/plain": [
       "<Figure size 432x288 with 1 Axes>"
      ]
     },
     "metadata": {
      "needs_background": "light"
     },
     "output_type": "display_data"
    }
   ],
   "source": [
    "import numpy as np\n",
    "import pandas as pd\n",
    "import numpy as np\n",
    "import seaborn as sns\n",
    "#I will use numpy.random to add some noise to the data.\n",
    "from numpy.random import default_rng\n",
    "#\n",
    "#I'll use the same seed throughout these plots.\n",
    "#seed = 33\n",
    "\n",
    "#Creating the psuedorandom number generator container with the above seed.\n",
    "#rng = default_rng(seed)\n",
    "\n",
    "#Using linspace to create each of the x arrays[4].\n",
    "x1 = np.linspace(0, 40, 40)\n",
    "\n",
    "#The x arrays are then multiplied and have random numbers added to them to make them look a bit less linear.\n",
    "y1 = (5*x1)+ rng.normal(0,100,len(x1))\n",
    "#Repeat for x1 and y2\n",
    "x2 = np.linspace(20, 60, 80)\n",
    "y2 = (4 * x2) + rng.normal(0,100,len(x2))\n",
    "\n",
    "#x3 and y3\n",
    "x3 = np.linspace(30, 60, 30)\n",
    "y3 = (0.5 * x3 ) + rng.normal(0,70,len(x3))\n",
    "\n",
    "#x4 and y4\n",
    "x4 = np.linspace(40, 100, 80)\n",
    "y4 = (1.5* x4)+rng.normal(0,20,len(x4))\n",
    "#y = a * x + b\n",
    "\n",
    "#Using regplot to show the line of best fit for each of the datasets.\n",
    "#Here I'll plot them all on the same axis to show their individual trends.\n",
    "sns.regplot(x = x1,y = y1, color = 'Blue', label = 'x1 y1')\n",
    "sns.regplot(x = x2,y = y2, color = 'Orange', label = 'x2 y2')\n",
    "sns.regplot(x = x3,y = y3, color = 'Green', label = 'x3 y3')\n",
    "sns.regplot(x = x4,y = y4, color = 'Red',label = 'x4 y4')\n",
    "plt.suptitle(\"Four datasets plotted together\")\n",
    "plt.text(103, 30, \"Each individual dataset has \\na positive trend on their own.\")\n",
    "plt.legend();"
   ]
  },
  {
   "cell_type": "code",
   "execution_count": 126,
   "metadata": {},
   "outputs": [
    {
     "data": {
      "image/png": "[encoded data removed]",
      "text/plain": [
       "<Figure size 432x288 with 1 Axes>"
      ]
     },
     "metadata": {
      "needs_background": "light"
     },
     "output_type": "display_data"
    }
   ],
   "source": [
    "#Combining all the x and y arrays into one.\n",
    "x = np.concatenate((x1, x2, x3, x4))\n",
    "y = np.concatenate((y1, y2, y3, y4))\n",
    "\n",
    "#Using regplot again to show the line of best fit for the combined dataset.\n",
    "sns.regplot(x = x,y = y)\n",
    "plt.suptitle(\"Four datasets combined\")\n",
    "plt.text(103, 30, \"Trend slopes downwards \\nwhen all four arrays are combined.\");"
   ]
  },
  {
   "cell_type": "code",
   "execution_count": 99,
   "metadata": {},
   "outputs": [
    {
     "name": "stdout",
     "output_type": "stream",
     "text": [
      "## Global rates: \n",
      "treatment\n",
      "A    0.780000\n",
      "B    0.825714\n",
      "dtype: float64\n",
      "## Local rates:\n",
      "treatment                 A         B\n",
      "kidney_stone_size                    \n",
      "large              0.730038  0.687500\n",
      "small              0.931034  0.866667\n",
      "## Global optimal: \n",
      "## Local optimal: \n",
      "## Simpsons Paradox detected.\n"
     ]
    }
   ],
   "source": [
    "# detect simpson's paradox\n",
    "import numpy as np\n",
    "import pandas as pd\n",
    "\n",
    "\n",
    "def aggregate_data(df, conversion_col, treatment_col, segment_col):\n",
    "    \"\"\"\n",
    "    takes table of individual level data and aggregates it for simpsons paradox detection.\n",
    "    conversion_col is 1 if success, 0 else. \n",
    "    ex:\n",
    "    pd.DataFrame([\n",
    "        ['small', 'A', 1],\n",
    "        ['small', 'B', 0],\n",
    "        ['large', 'A', 1],\n",
    "        ['small', 'A', 1],\n",
    "        ['large', 'B', 0],\n",
    "        ['large', 'B', 0],\n",
    "    ], columns=['kidney_stone_size', 'treatment', 'recovery'])   \n",
    "    \"\"\"\n",
    "    df_ = df[[conversion_col, treatment_col, segment_col]]\n",
    "    gb = df_.groupby([segment_col, treatment_col]).agg(\n",
    "        [np.sum, lambda x: len(x)])\n",
    "    gb.columns = [conversion_col, \"total\"]\n",
    "\n",
    "    return gb.reset_index()\n",
    "\n",
    "\n",
    "def simpsons_paradox(df, conversion_col, total_col, treatment_col, segment_col):\n",
    "    \"\"\"\n",
    "    given a dataframe like:\n",
    "        pd.DataFrame([\n",
    "            ['small', 'A', 81, 87],\n",
    "            ['small', 'B', 234, 270],\n",
    "            ['large', 'A', 192, 263],\n",
    "            ['large', 'B', 55, 80],\n",
    "        ], columns=['kidney_stone_size', 'treatment', 'recovery', 'total'])   \n",
    "    will determine if simpsons paradox exists. Non Bayesian!\n",
    "    > simpsons_paradox( df, 'recovery', 'total', 'treatment', 'kidney_stone_size' )    \n",
    "    \"\"\"\n",
    "\n",
    "    # find global optimal:\n",
    "    gbs = df.groupby(treatment_col).sum()\n",
    "    print (\"## Global rates: \")\n",
    "    print (gbs[conversion_col] / gbs[total_col])\n",
    "    print\n",
    "    global_optimal = (gbs[conversion_col] / gbs[total_col]).argmax()\n",
    "\n",
    "    # check optimal via segments\n",
    "    df_ = df.set_index([segment_col, treatment_col])\n",
    "    rates = (df_[conversion_col] / df_[total_col]).unstack(-1)\n",
    "    print (\"## Local rates:\")\n",
    "    print (rates)\n",
    "    print\n",
    "    # find the local optimals\n",
    "    local_optimals = rates.apply(lambda x: x.argmax(), 1)\n",
    "\n",
    "    if local_optimals.unique().shape[0] > 1:\n",
    "        print (\"## Simpsons paradox not detected.\")\n",
    "        print (\"## Segmented rates do not have a consistent optimal choice\")\n",
    "        print (\"## Local optimals:\")\n",
    "        print (local_optimals)\n",
    "        print (\"## Global optimal: \"), global_optimal\n",
    "        return False\n",
    "\n",
    "    local_optimal = local_optimals.unique()[0]\n",
    "\n",
    "    print (\"## Global optimal: \"), global_optimal\n",
    "    print (\"## Local optimal: \"), local_optimal\n",
    "    if local_optimal != global_optimal:\n",
    "        print (\"## Simpsons Paradox detected.\")\n",
    "        return True\n",
    "\n",
    "    else:\n",
    "        print (\"## Simpsons paradox not detected.\")\n",
    "        return False\n",
    "\n",
    "\n",
    "if __name__ == \"__main__\":\n",
    "    # create some data, indentical to the data at\n",
    "    # http://en.wikipedia.org/wiki/Simpsons_paradox\n",
    "    d = []\n",
    "    d += ([('A', 'small', 1)] * 81)\n",
    "    d += ([('A', 'small', 0)] * (87 - 81))\n",
    "    d += ([('B', 'small', 0)] * (270 - 234))\n",
    "    d += ([('B', 'small', 1)] * (234))\n",
    "    d += ([('B', 'large', 1)] * (55))\n",
    "    d += ([('B', 'large', 0)] * (80 - 55))\n",
    "    d += ([('A', 'large', 0)] * (263 - 192))\n",
    "    d += ([('A', 'large', 1)] * (192))\n",
    "\n",
    "    df = pd.DataFrame(\n",
    "        d, columns=['treatment', 'kidney_stone_size', 'recovery'])\n",
    "    gb = aggregate_data(df, 'recovery', 'treatment', 'kidney_stone_size')\n",
    "    simpsons_paradox(gb, 'recovery', 'total', 'treatment', 'kidney_stone_size')\n",
    "\n",
    "\n"
   ]
  },
  {
   "cell_type": "code",
   "execution_count": 30,
   "metadata": {},
   "outputs": [
    {
     "data": {
      "text/html": [
       "<div>\n",
       "<style scoped>\n",
       "    .dataframe tbody tr th:only-of-type {\n",
       "        vertical-align: middle;\n",
       "    }\n",
       "\n",
       "    .dataframe tbody tr th {\n",
       "        vertical-align: top;\n",
       "    }\n",
       "\n",
       "    .dataframe thead th {\n",
       "        text-align: right;\n",
       "    }\n",
       "</style>\n",
       "<table border=\"1\" class=\"dataframe\">\n",
       "  <thead>\n",
       "    <tr style=\"text-align: right;\">\n",
       "      <th></th>\n",
       "      <th>A</th>\n",
       "      <th>B</th>\n",
       "      <th>A+B</th>\n",
       "      <th>names</th>\n",
       "    </tr>\n",
       "  </thead>\n",
       "  <tbody>\n",
       "    <tr>\n",
       "      <th>0</th>\n",
       "      <td>39</td>\n",
       "      <td>62</td>\n",
       "      <td>32.8</td>\n",
       "      <td>Laura</td>\n",
       "    </tr>\n",
       "    <tr>\n",
       "      <th>1</th>\n",
       "      <td>33</td>\n",
       "      <td>48</td>\n",
       "      <td>28.2</td>\n",
       "      <td>Laura</td>\n",
       "    </tr>\n",
       "    <tr>\n",
       "      <th>2</th>\n",
       "      <td>62</td>\n",
       "      <td>8</td>\n",
       "      <td>61.2</td>\n",
       "      <td>Laura</td>\n",
       "    </tr>\n",
       "    <tr>\n",
       "      <th>3</th>\n",
       "      <td>46</td>\n",
       "      <td>92</td>\n",
       "      <td>36.8</td>\n",
       "      <td>Laura</td>\n",
       "    </tr>\n",
       "    <tr>\n",
       "      <th>4</th>\n",
       "      <td>44</td>\n",
       "      <td>35</td>\n",
       "      <td>40.5</td>\n",
       "      <td>Laura</td>\n",
       "    </tr>\n",
       "  </tbody>\n",
       "</table>\n",
       "</div>"
      ],
      "text/plain": [
       "    A   B   A+B  names\n",
       "0  39  62  32.8  Laura\n",
       "1  33  48  28.2  Laura\n",
       "2  62   8  61.2  Laura\n",
       "3  46  92  36.8  Laura\n",
       "4  44  35  40.5  Laura"
      ]
     },
     "execution_count": 30,
     "metadata": {},
     "output_type": "execute_result"
    }
   ],
   "source": [
    "import pandas as pd\n",
    "import numpy as np\n",
    "import random\n",
    "#using numpy's randint\n",
    "df = pd.DataFrame(np.random.randint(0,100,size=(15, 2)), columns=list('AB'))\n",
    "# create a new column \n",
    "df['A+B'] = df['A'] - (0.1 * df['B'])\n",
    "df['names'] = 'Laura'\n",
    "df.head(5)\n"
   ]
  },
  {
   "cell_type": "markdown",
   "metadata": {},
   "source": [
    "## Refrences:\n",
    "### Task 1:\n",
    "[Geeks for Geeks](https://www.geeksforgeeks.org/counting-the-frequencies-in-a-list-using-dictionary-in-python/)\n",
    "\n",
    "[w3resource](https://www.w3resource.com/python-exercises/string/python-data-type-string-exercise-12.php)\n",
    "\n",
    "### Task 2:\n",
    "[Stack Over Flow](https://stackoverflow.com/questions/60343980/rolling-2-dice-1000-times-and-counting-the-number-of-times-the-sum-of-the-two-di)\n",
    "\n",
    "### Task 3:\n",
    "\n",
    "[towards data science](https://towardsdatascience.com/how-to-code-a-fair-coin-flip-in-python-d54312f33da9)\n",
    "[Python and R Tips](https://cmdlinetips.com/2018/12/simulating-coin-toss-experiment-with-binomial-random-numbers-using-numpy/)\n",
    "\n",
    "\n",
    "### Task 4:"
   ]
  },
  {
   "cell_type": "code",
   "execution_count": null,
   "metadata": {},
   "outputs": [],
   "source": []
  }
 ],
 "metadata": {
  "kernelspec": {
   "display_name": "Python 3",
   "language": "python",
   "name": "python3"
  },
  "language_info": {
   "codemirror_mode": {
    "name": "ipython",
    "version": 3
   },
   "file_extension": ".py",
   "mimetype": "text/x-python",
   "name": "python",
   "nbconvert_exporter": "python",
   "pygments_lexer": "ipython3",
   "version": "3.7.7"
  }
 },
 "nbformat": 4,
 "nbformat_minor": 4
}
