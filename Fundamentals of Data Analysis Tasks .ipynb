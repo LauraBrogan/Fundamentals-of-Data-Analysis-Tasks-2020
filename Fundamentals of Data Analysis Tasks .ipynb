{
 "cells": [
  {
   "cell_type": "markdown",
   "metadata": {},
   "source": [
    "# Fundamentals of Data Analysis Tasks 2020\n",
    "***\n",
    "This notebook contains my solutions to the four tasks for the Fundamentals of Data Analyis Assignment 2020."
   ]
  },
  {
   "cell_type": "markdown",
   "metadata": {},
   "source": [
    "## Task 1 :\n",
    "Write a Python function called counts that takes a list as input and returns a dictionary of unique items in the list as keys and the number of times each item appears as values.\n",
    "\n",
    "### Solution:\n",
    "I used the following souce to create this solution for a a list(Geeks for Geeks).\n"
   ]
  },
  {
   "cell_type": "code",
   "execution_count": 1,
   "metadata": {},
   "outputs": [
    {
     "name": "stdout",
     "output_type": "stream",
     "text": [
      " 1 :  5\n",
      " 5 :  2\n",
      " 3 :  3\n",
      " 4 :  3\n",
      " 2 :  4\n"
     ]
    }
   ],
   "source": [
    "# Python program to count the frequency of  \n",
    "# elements in a list using a dictionary \n",
    "  \n",
    "def counts(my_list): \n",
    "  \n",
    "    # Creating an empty dictionary  \n",
    "    freq = {} \n",
    "    for item in my_list: \n",
    "        if (item in freq): \n",
    "            freq[item] += 1\n",
    "        else: \n",
    "            freq[item] = 1\n",
    "  \n",
    "    for key, value in freq.items(): \n",
    "        print (\"% d : % d\"%(key, value)) \n",
    "  \n",
    "# Driver function \n",
    "if __name__ == \"__main__\":  \n",
    "    my_list =[1, 1, 1, 5, 5, 3, 1, 3, 3, 1, 4, 4, 4, 2, 2, 2, 2] \n",
    "  \n",
    "    counts(my_list)"
   ]
  },
  {
   "cell_type": "markdown",
   "metadata": {},
   "source": [
    "I then greated my own list of values to have a look at the outcome. "
   ]
  },
  {
   "cell_type": "code",
   "execution_count": 2,
   "metadata": {},
   "outputs": [
    {
     "name": "stdout",
     "output_type": "stream",
     "text": [
      " 10 :  4\n",
      " 50 :  1\n",
      " 15 :  1\n",
      " 100 :  2\n",
      " 45 :  2\n",
      " 87 :  3\n",
      " 95 :  1\n"
     ]
    }
   ],
   "source": [
    "def counts(my_list): \n",
    "  \n",
    "    # Creating an empty dictionary  \n",
    "    freq = {} \n",
    "    for item in my_list: \n",
    "        if (item in freq): \n",
    "            freq[item] += 1\n",
    "        else: \n",
    "            freq[item] = 1\n",
    "  \n",
    "    for key, value in freq.items(): \n",
    "        print (\"% d : % d\"%(key, value)) \n",
    "if __name__ == \"__main__\":  \n",
    "    my_list =[10, 50, 15, 100, 45, 87, 95, 10, 100, 87, 10, 87,10, 45] \n",
    "  \n",
    "    counts(my_list)"
   ]
  },
  {
   "cell_type": "markdown",
   "metadata": {},
   "source": [
    "While looking at lists I also wanted to figure out how to do the same exercise with a string and I have included my findings here."
   ]
  },
  {
   "cell_type": "code",
   "execution_count": 32,
   "metadata": {},
   "outputs": [
    {
     "name": "stdout",
     "output_type": "stream",
     "text": [
      "{'hey': 1, 'diddle': 2, 'the': 4, 'cat': 1, 'and': 1, 'fiddle': 1, 'cow': 1, 'jumped': 1, 'over': 1, 'moon': 1}\n"
     ]
    }
   ],
   "source": [
    "def counts(str):\n",
    "    count = dict()\n",
    "    words = str.split()\n",
    "\n",
    "    for word in words:\n",
    "        if word in count:\n",
    "            count[word] += 1\n",
    "        else:\n",
    "            count[word] = 1\n",
    "\n",
    "    return count\n",
    "\n",
    "print( counts ('hey diddle diddle the cat and the fiddle the cow jumped over the moon'))\n",
    "\n",
    "#Resource used:(w3resource)"
   ]
  },
  {
   "cell_type": "markdown",
   "metadata": {},
   "source": [
    "## Task 2 :\n",
    "Write a Python function called dicerolls that simulates rolling dice. \n",
    "\n",
    "\n",
    "November 2nd, 2020: Write a Python function called dicerolls that simulates\n",
    "rolling dice. Your function should take two parameters: the number of dice k and\n",
    "the number of times to roll the dice n. The function should simulate randomly\n",
    "rolling k dice n times, keeping track of each total face value. It should then return\n",
    "a dictionary with the number of times each possible total face value occurred. So,\n",
    "calling the function as diceroll(k=2, n=1000) should return a dictionary like:\n",
    "{2:19,3:50,4:82,5:112,6:135,7:174,8:133,9:114,10:75,11:70,12:36}\n",
    "You can use any module from the Python standard library you wish and you should\n",
    "include a description with references of your algorithm in the notebook.\n",
    "\n",
    "\n",
    "\n",
    "### Solution:"
   ]
  },
  {
   "cell_type": "code",
   "execution_count": 11,
   "metadata": {},
   "outputs": [
    {
     "data": {
      "text/plain": [
       "array([[2, 2, 3, 4, 7, 2]], dtype=int64)"
      ]
     },
     "execution_count": 11,
     "metadata": {},
     "output_type": "execute_result"
    }
   ],
   "source": [
    "import numpy as np\n",
    "rng = np.random.default_rng()\n",
    "rng.multinomial(20,[1/6.]*6, size=1)\n"
   ]
  },
  {
   "cell_type": "code",
   "execution_count": 26,
   "metadata": {},
   "outputs": [
    {
     "name": "stdout",
     "output_type": "stream",
     "text": [
      "defaultdict(<class 'int'>, {3: 57, 4: 74, 8: 129, 12: 35, 5: 126, 10: 79, 6: 146, 7: 161, 9: 107, 11: 57, 2: 29})\n"
     ]
    }
   ],
   "source": [
    "from collections import defaultdict#https://stackoverflow.com/questions/60343980/rolling-2-dice-1000-times-and-counting-the-number-of-times-the-sum-of-the-two-di\n",
    "from random import randint\n",
    "\n",
    "# Roll the two dice how many times?\n",
    "n = 1000\n",
    "\n",
    "# Create a dictionary to store the results\n",
    "results = defaultdict(int)\n",
    "\n",
    "# Loop n times\n",
    "for _ in range(n):\n",
    "    # Get random numbers for the two dice\n",
    "    die_1 = randint(1, 6)\n",
    "    die_2 = randint(1, 6)\n",
    "    # Increase the corresponding result by 1\n",
    "    results[die_1 + die_2] += 1\n",
    "\n",
    "# Print results\n",
    "print(results)"
   ]
  },
  {
   "cell_type": "code",
   "execution_count": 28,
   "metadata": {},
   "outputs": [
    {
     "name": "stdout",
     "output_type": "stream",
     "text": [
      "For Loop\n",
      "sum = 3 count = 61\n",
      "sum = 5 count = 112\n",
      "sum = 6 count = 130\n",
      "sum = 7 count = 176\n",
      "sum = 11 count = 54\n",
      "sum = 8 count = 122\n",
      "sum = 9 count = 108\n",
      "sum = 4 count = 97\n",
      "sum = 10 count = 87\n",
      "sum = 2 count = 30\n",
      "sum = 12 count = 23\n"
     ]
    }
   ],
   "source": [
    "from collections import defaultdict\n",
    "from random import randint\n",
    "\n",
    "# Roll the two dice how many times?\n",
    "n = 1000\n",
    "\n",
    "# Create a dictionary to store the results\n",
    "results = defaultdict(int)\n",
    "\n",
    "# Loop n times\n",
    "for _ in range(n):\n",
    "    # Get random numbers for the two dice\n",
    "    k = randint(1, 6)\n",
    "    die_2 = randint(1, 6)\n",
    "    # Increase the corresponding result by 1\n",
    "    results[die_1 + die_2] += 1\n",
    "\n",
    "# Print results\n",
    "print(results)) "
   ]
  },
  {
   "cell_type": "markdown",
   "metadata": {},
   "source": [
    "## Task 3 :\n",
    "\n",
    "Write some python code that simulates flipping a coin 100 times. Then run this code 1,000 times, keeping track\n",
    "of the number of heads in each of the 1,000 simulations. Select an appropriate plot to depict the resulting list of 1,000 numbers, showing that it roughly follows a bell-shaped curve.\n",
    "\n",
    "### Solution:https://towardsdatascience.com/how-to-code-a-fair-coin-flip-in-python-d54312f33da9"
   ]
  },
  {
   "cell_type": "markdown",
   "metadata": {},
   "source": [
    "Tossing a fair coin using the binomial distribution function in python . Flipping a coin 100 times, we set n =100 for 100 coin tosses the out put is the number of heads = 49"
   ]
  },
  {
   "cell_type": "code",
   "execution_count": null,
   "metadata": {},
   "outputs": [],
   "source": [
    "np.random.seed(42)\n",
    "n = 100\n",
    "p = 0.5\n",
    "np.random.binomial(n, p)\n"
   ]
  },
  {
   "cell_type": "code",
   "execution_count": null,
   "metadata": {},
   "outputs": [],
   "source": [
    "import scipy as sp\n",
    "from scipy import stats\n",
    "import numpy as np\n",
    "from scipy.stats import binom\n",
    "np.random.seed(1)\n",
    "\n",
    "data_binom = binom.rvs(n=1,p=0.5,size=10000)\n",
    "print(data_binom)\n",
    "\n",
    "y = np.bincount(data_binom)\n",
    "head = print(y[0])\n",
    "print(head)"
   ]
  },
  {
   "cell_type": "code",
   "execution_count": null,
   "metadata": {},
   "outputs": [],
   "source": [
    "np.random.seed()\n",
    "n=1\n",
    "p=0.5\n",
    "# let us repeat our experiment for 100 times\n",
    "size=1000\n",
    "x=np.random.binomial(n=n, p=p, size=size)\n",
    "x\n",
    "#print(data_binom)\n",
    "\n",
    "#y = np.bincount(data_binom)\n",
    "#head = print(y[0])\n",
    "#print(head)"
   ]
  },
  {
   "cell_type": "code",
   "execution_count": null,
   "metadata": {},
   "outputs": [],
   "source": [
    "import numpy as np\n",
    "def coinFlip(p):    \n",
    "    #perform the binomial distribution (returns 0 or 1)    \n",
    "    result = np.random.binomial(1,p)\n",
    "#return flip to be added to numpy array    \n",
    "    return result\n",
    "'''Main Area'''\n",
    "#probability of heads vs. tails. This can be changed.\n",
    "probability = .5\n",
    "#num of flips required. This can be changed.\n",
    "n = 10\n",
    "#initiate array\n",
    "fullResults = np.arange(n)\n",
    "#perform desired numbered of flips at required probability set above\n",
    "for i in range(0, n):    \n",
    "    fullResults[i] = coinFlip(probability)    \n",
    "    i+=1\n",
    "#print results\n",
    "print(\"probability is set to \", probability)\n",
    "print(\"Tails = 0, Heads = 1: \", fullResults)\n",
    "#Total up heads and tails for easy user experience \n",
    "print(\"Head Count: \", np.count_nonzero(fullResults == 1))\n",
    "print(\"Tail Count: \", np.count_nonzero(fullResults == 0))\n",
    "\n",
    "import matplotlib.pyplot as plt\n",
    "plt.plot(head count)\n",
    "plt.show()"
   ]
  },
  {
   "cell_type": "code",
   "execution_count": null,
   "metadata": {},
   "outputs": [],
   "source": [
    "1,000 times, keeping track\n",
    "of the number of heads in each of the 1,000 simulations"
   ]
  },
  {
   "cell_type": "code",
   "execution_count": null,
   "metadata": {},
   "outputs": [],
   "source": [
    "n_all_heads = 0\n",
    "\n",
    "# Initialize number of 4-heads trials\n",
    "for _ in range(10000):\n",
    "         heads = np.random.random(size=4) < 0.5\n",
    "         n_heads = np.sum(heads)\n",
    "         if n_heads == 4:\n",
    "             n_all_heads += 1\n",
    "\n",
    "n_all_heads / 10000\n"
   ]
  },
  {
   "cell_type": "code",
   "execution_count": null,
   "metadata": {},
   "outputs": [],
   "source": [
    "# Seed the random number generator\n",
    "np.random.seed(42)\n",
    "\n",
    "# Initialize random numbers: random_numbers\n",
    "random_numbers = np.empty(100000)\n",
    "\n",
    "# Generate random numbers by looping over range(100000)\n",
    "for i in range(100000):\n",
    "    random_numbers[i] = np.random.random()\n",
    "\n",
    "# Plot a histogram\n",
    "_ = plt.hist(random_numbers)\n",
    "\n",
    "# Show the plot\n",
    "plt.show()"
   ]
  },
  {
   "cell_type": "markdown",
   "metadata": {},
   "source": [
    "Select an appropriate plot to depict the resulting list of 1,000 numbers, showing that it roughly follows a bell-shaped curve Explain results"
   ]
  },
  {
   "cell_type": "markdown",
   "metadata": {},
   "source": [
    "## Refrences:\n",
    "### Task1:\n",
    "[Geeks for Geeks](https://www.geeksforgeeks.org/counting-the-frequencies-in-a-list-using-dictionary-in-python/)\n",
    "\n",
    "[w3resource](https://www.w3resource.com/python-exercises/string/python-data-type-string-exercise-12.php)\n",
    "\n",
    "### Task2:"
   ]
  },
  {
   "cell_type": "code",
   "execution_count": null,
   "metadata": {},
   "outputs": [],
   "source": []
  }
 ],
 "metadata": {
  "kernelspec": {
   "display_name": "Python 3",
   "language": "python",
   "name": "python3"
  },
  "language_info": {
   "codemirror_mode": {
    "name": "ipython",
    "version": 3
   },
   "file_extension": ".py",
   "mimetype": "text/x-python",
   "name": "python",
   "nbconvert_exporter": "python",
   "pygments_lexer": "ipython3",
   "version": "3.7.7"
  }
 },
 "nbformat": 4,
 "nbformat_minor": 4
}
